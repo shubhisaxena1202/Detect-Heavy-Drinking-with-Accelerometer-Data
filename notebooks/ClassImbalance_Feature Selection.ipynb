{
 "cells": [
  {
   "cell_type": "code",
   "execution_count": 484,
   "metadata": {
    "ExecuteTime": {
     "end_time": "2021-12-06T23:35:25.671185Z",
     "start_time": "2021-12-06T23:35:25.666437Z"
    }
   },
   "outputs": [],
   "source": [
    "import pandas as pd\n",
    "from collections import Counter\n",
    "\n",
    "import seaborn as sns\n",
    "from matplotlib import pyplot as plt\n",
    "sns.set(rc={'figure.figsize':(20,20)})\n"
   ]
  },
  {
   "cell_type": "code",
   "execution_count": 485,
   "metadata": {
    "ExecuteTime": {
     "end_time": "2021-12-06T23:35:25.703257Z",
     "start_time": "2021-12-06T23:35:25.674132Z"
    }
   },
   "outputs": [
    {
     "name": "stdout",
     "output_type": "stream",
     "text": [
      "TRAIN DATA: X 2sec shape (181, 94)\n",
      "Class distribution is: Counter({0: 98, 1: 83})\n",
      "\n",
      "TEST DATA: X 2sec shape (59, 94)\n",
      "Class distribution is: Counter({0: 32, 1: 27})\n"
     ]
    }
   ],
   "source": [
    "Xtrain_2sec = pd.read_csv('../DataBarCrawl/fft_data/X_2_train.csv')\n",
    "ytrain_2sec = pd.read_csv('../DataBarCrawl/fft_data/y_2_train.csv')\n",
    "print(f'TRAIN DATA: X 2sec shape {Xtrain_2sec.shape}')\n",
    "print(f'Class distribution is: {Counter(ytrain_2sec[\"0\"])}')\n",
    "\n",
    "Xtest_2sec = pd.read_csv('../DataBarCrawl/fft_data/X_2_test.csv')\n",
    "ytest_2sec = pd.read_csv('../DataBarCrawl/fft_data/y_2_test.csv')\n",
    "print(f'\\nTEST DATA: X 2sec shape {Xtest_2sec.shape}')\n",
    "print(f'Class distribution is: {Counter(ytest_2sec[\"0\"])}')"
   ]
  },
  {
   "cell_type": "code",
   "execution_count": 486,
   "metadata": {
    "ExecuteTime": {
     "end_time": "2021-12-06T23:35:25.739152Z",
     "start_time": "2021-12-06T23:35:25.706047Z"
    }
   },
   "outputs": [
    {
     "name": "stdout",
     "output_type": "stream",
     "text": [
      "TRAIN DATA: X 5sec shape (177, 94)\n",
      "Class distribution is: Counter({1: 107, 0: 70})\n",
      "\n",
      "TEST DATA: X 2sec shape (48, 94)\n",
      "Class distribution is: Counter({1: 29, 0: 19})\n"
     ]
    }
   ],
   "source": [
    "Xtrain_5sec = pd.read_csv('../DataBarCrawl/fft_data/X_5_train.csv')\n",
    "ytrain_5sec = pd.read_csv('../DataBarCrawl/fft_data/y_5_train.csv')\n",
    "print(f'TRAIN DATA: X 5sec shape {Xtrain_5sec.shape}')\n",
    "print(f'Class distribution is: {Counter(ytrain_5sec[\"0\"])}')\n",
    "\n",
    "Xtest_5sec = pd.read_csv('../DataBarCrawl/fft_data/X_5_test.csv')\n",
    "ytest_5sec = pd.read_csv('../DataBarCrawl/fft_data/y_5_test.csv')\n",
    "print(f'\\nTEST DATA: X 2sec shape {Xtest_5sec.shape}')\n",
    "print(f'Class distribution is: {Counter(ytest_5sec[\"0\"])}')"
   ]
  },
  {
   "cell_type": "code",
   "execution_count": 487,
   "metadata": {
    "ExecuteTime": {
     "end_time": "2021-12-06T23:35:25.762332Z",
     "start_time": "2021-12-06T23:35:25.741128Z"
    }
   },
   "outputs": [
    {
     "name": "stdout",
     "output_type": "stream",
     "text": [
      "X 10sec shape (169, 94)\n",
      "Class distribution is: Counter({1: 126, 0: 43})\n"
     ]
    }
   ],
   "source": [
    "X_10sec = pd.read_csv('../DataBarCrawl/fft_data/X_10_train.csv')\n",
    "y_10sec = pd.read_csv('../DataBarCrawl/fft_data/y_10_train.csv')\n",
    "print(f'X 10sec shape {X_10sec.shape}')\n",
    "print(f'Class distribution is: {Counter(y_10sec[\"0\"])}')"
   ]
  },
  {
   "cell_type": "markdown",
   "metadata": {},
   "source": [
    "# Feature Selection"
   ]
  },
  {
   "cell_type": "code",
   "execution_count": 488,
   "metadata": {
    "ExecuteTime": {
     "end_time": "2021-12-06T23:35:25.777192Z",
     "start_time": "2021-12-06T23:35:25.768935Z"
    }
   },
   "outputs": [
    {
     "data": {
      "text/plain": [
       "(181, 95)"
      ]
     },
     "execution_count": 488,
     "metadata": {},
     "output_type": "execute_result"
    }
   ],
   "source": [
    "data = pd.DataFrame()\n",
    "data = Xtrain_2sec.copy()\n",
    "data['class'] = ytrain_2sec\n",
    "data.shape"
   ]
  },
  {
   "cell_type": "code",
   "execution_count": 489,
   "metadata": {
    "ExecuteTime": {
     "end_time": "2021-12-06T23:35:25.783783Z",
     "start_time": "2021-12-06T23:35:25.780691Z"
    }
   },
   "outputs": [],
   "source": [
    "# data.info()"
   ]
  },
  {
   "cell_type": "code",
   "execution_count": 490,
   "metadata": {
    "ExecuteTime": {
     "end_time": "2021-12-06T23:35:25.800003Z",
     "start_time": "2021-12-06T23:35:25.786846Z"
    }
   },
   "outputs": [
    {
     "name": "stdout",
     "output_type": "stream",
     "text": [
      "important features : ['y_std', 'z_std', 'y_aad', 'z_aad', 'y_max', 'z_neg_count', 'y_pos_count', 'z_pos_count', 'x_peak_count', 'y_peak_count', 'z_peak_count', 'x_kurtosis', 'y_kurtosis', 'z_kurtosis', 'z_mean_fft', 'y_std_fft', 'z_std_fft', 'y_aad_fft', 'z_aad_fft', 'z_min_fft', 'y_max_fft', 'z_max_fft', 'y_maxmin_diff_fft', 'z_maxmin_diff_fft', 'y_mad_fft', 'y_IQR_fft', 'z_peak_count_fft'],\n",
      "length :  27\n"
     ]
    }
   ],
   "source": [
    "TARGET_THRESHOLD = 0.3\n",
    "data_cor = data.corr()\n",
    "cor_target = abs(data_cor[\"class\"])\n",
    "\n",
    "high_corr_features = cor_target[cor_target > TARGET_THRESHOLD]\n",
    "\n",
    "feature_names = [index for index, value in high_corr_features.items()]\n",
    "\n",
    "feature_names.remove('class')\n",
    "\n",
    "print(f'important features : {feature_names},\\nlength :  {len(feature_names)}')"
   ]
  },
  {
   "cell_type": "markdown",
   "metadata": {},
   "source": [
    "important features : ['y_std', 'z_std', 'y_aad', 'z_aad', 'y_max', 'z_neg_count', 'y_pos_count', 'z_pos_count', 'x_peak_count', 'y_peak_count', 'z_peak_count', 'x_kurtosis', 'y_kurtosis', 'z_kurtosis', 'z_mean_fft', 'y_std_fft', 'z_std_fft', 'y_aad_fft', 'z_aad_fft', 'z_min_fft', 'y_max_fft', 'z_max_fft', 'y_maxmin_diff_fft', 'z_maxmin_diff_fft', 'y_mad_fft', 'y_IQR_fft', 'z_peak_count_fft'],\n",
    "length :  27"
   ]
  },
  {
   "cell_type": "code",
   "execution_count": 491,
   "metadata": {
    "ExecuteTime": {
     "end_time": "2021-12-06T23:35:26.703487Z",
     "start_time": "2021-12-06T23:35:25.803961Z"
    }
   },
   "outputs": [
    {
     "data": {
      "image/png": "[encoded data removed]",
      "text/plain": [
       "<Figure size 1440x1440 with 2 Axes>"
      ]
     },
     "metadata": {},
     "output_type": "display_data"
    }
   ],
   "source": [
    "sub_features = feature_names\n",
    "\n",
    "feature_names = feature_names + ['class']\n",
    "sns.heatmap(data_cor.loc[feature_names][feature_names], cmap=plt.cm.PuBu);"
   ]
  },
  {
   "cell_type": "code",
   "execution_count": 492,
   "metadata": {
    "ExecuteTime": {
     "end_time": "2021-12-06T23:35:26.707858Z",
     "start_time": "2021-12-06T23:35:26.705600Z"
    }
   },
   "outputs": [],
   "source": [
    "# feature_names.remove('class')\n",
    "# feature_names.remove()"
   ]
  },
  {
   "cell_type": "code",
   "execution_count": 493,
   "metadata": {
    "ExecuteTime": {
     "end_time": "2021-12-06T23:35:26.713025Z",
     "start_time": "2021-12-06T23:35:26.710232Z"
    }
   },
   "outputs": [],
   "source": [
    "from sklearn.ensemble import RandomForestClassifier\n",
    "from sklearn import metrics\n",
    "import numpy as np"
   ]
  },
  {
   "cell_type": "code",
   "execution_count": 494,
   "metadata": {
    "ExecuteTime": {
     "end_time": "2021-12-06T23:35:26.718318Z",
     "start_time": "2021-12-06T23:35:26.715018Z"
    }
   },
   "outputs": [],
   "source": [
    "ytrain_2sec = np.array(ytrain_2sec).ravel()\n",
    "ytest_2sec = np.array(ytest_2sec).ravel()"
   ]
  },
  {
   "cell_type": "code",
   "execution_count": 495,
   "metadata": {
    "ExecuteTime": {
     "end_time": "2021-12-06T23:35:26.731103Z",
     "start_time": "2021-12-06T23:35:26.720354Z"
    }
   },
   "outputs": [],
   "source": [
    "from sklearn.preprocessing import StandardScaler, MinMaxScaler\n",
    "from sklearn.metrics import accuracy_score, roc_auc_score, precision_score, recall_score, f1_score, r2_score\n",
    "import pickle\n",
    "\n",
    "def evaluate_metrics(model, X_test, Y_test):\n",
    "    y_hat = model.predict(X_test)\n",
    "    print(f'Predicted\\n {y_hat}')\n",
    "    print(f'Actual\\n {Y_test}')\n",
    "    acc = accuracy_score(Y_test, y_hat)\n",
    "    roc = roc_auc_score(Y_test, y_hat)\n",
    "    prec = precision_score(Y_test, y_hat)\n",
    "    rec = recall_score(Y_test, y_hat)\n",
    "    f1 = f1_score(Y_test, y_hat)\n",
    "    r2 = r2_score(Y_test, y_hat)\n",
    "\n",
    "    return acc, roc, prec, rec, f1, r2\n",
    "\n",
    "def train_eval(model, X_train, X_test, Y_train, Y_test):\n",
    "\n",
    "    scaler = StandardScaler().fit(X_train)\n",
    "    Xtrain_scaled = scaler.transform(X_train)\n",
    "    Xtest_scaled = scaler.transform(X_test)\n",
    "    pickle.dump(scaler, open('../streamlit_app/saved_models/scaler.pkl', 'wb'))\n",
    "    \n",
    "    model.fit(Xtrain_scaled, Y_train)\n",
    "    \n",
    "    acc, roc, prec, rec, f1, r2 = evaluate_metrics(model, Xtest_scaled, Y_test)\n",
    "    display_df = pd.DataFrame([[prec, rec, f1, Xtest_scaled.shape[1]]], columns=[\"prec\",\"Recall\", \"F1 Score\",'Feature Count'])\n",
    "    \n",
    "    print(display_df)\n",
    "    \n",
    "    return display_df"
   ]
  },
  {
   "cell_type": "markdown",
   "metadata": {},
   "source": [
    "# RandomForest classifier on Window=2"
   ]
  },
  {
   "cell_type": "code",
   "execution_count": 496,
   "metadata": {
    "ExecuteTime": {
     "end_time": "2021-12-06T23:35:26.938455Z",
     "start_time": "2021-12-06T23:35:26.733930Z"
    }
   },
   "outputs": [
    {
     "name": "stdout",
     "output_type": "stream",
     "text": [
      "Predicted\n",
      " [0 0 0 1 1 1 1 1 1 1 1 1 1 1 1 1 1 1 1 1 1 1 1 1 1 1 1 1 1 0 1 1 1 1 1 1 1\n",
      " 1 1 1 1 1 1 1 1 1 1 1 1 1 1 1 1 1 0 0 1 1 1]\n",
      "Actual\n",
      " [1 1 1 1 1 1 1 1 1 1 1 1 1 0 0 0 0 0 0 0 0 1 1 1 1 1 1 0 0 0 0 0 0 0 0 0 0\n",
      " 0 0 0 1 1 1 1 1 1 1 1 0 0 0 0 0 0 0 0 0 0 0]\n",
      "      prec    Recall  F1 Score  Feature Count\n",
      "0  0.45283  0.888889       0.6             94\n"
     ]
    }
   ],
   "source": [
    "model_rf_2_all = RandomForestClassifier(criterion='entropy', random_state=47)\n",
    "train_eval(model_rf_2_all, Xtrain_2sec, Xtest_2sec, ytrain_2sec, ytest_2sec)\n",
    "pickle.dump(model_rf_2_all, open('../streamlit_app/saved_models/model_rf_2_all.pkl', 'wb'))\n"
   ]
  },
  {
   "cell_type": "code",
   "execution_count": 497,
   "metadata": {
    "ExecuteTime": {
     "end_time": "2021-12-06T23:35:27.135512Z",
     "start_time": "2021-12-06T23:35:26.940505Z"
    }
   },
   "outputs": [
    {
     "name": "stdout",
     "output_type": "stream",
     "text": [
      "Predicted\n",
      " [0 0 0 1 1 1 1 1 1 1 1 1 1 1 1 1 1 1 1 1 1 1 1 1 1 1 1 1 1 1 1 1 1 1 1 1 1\n",
      " 1 1 1 1 1 1 1 1 1 1 1 1 1 1 1 1 1 0 0 1 1 1]\n",
      "Actual\n",
      " [1 1 1 1 1 1 1 1 1 1 1 1 1 0 0 0 0 0 0 0 0 1 1 1 1 1 1 0 0 0 0 0 0 0 0 0 0\n",
      " 0 0 0 1 1 1 1 1 1 1 1 0 0 0 0 0 0 0 0 0 0 0]\n",
      "       prec    Recall  F1 Score  Feature Count\n",
      "0  0.444444  0.888889  0.592593             27\n"
     ]
    }
   ],
   "source": [
    "model_rf_2_27 = RandomForestClassifier(criterion='entropy', random_state=47)\n",
    "\n",
    "X_train = Xtrain_2sec[sub_features]\n",
    "X_test = Xtest_2sec[sub_features]\n",
    "train_eval(model_rf_2_27, X_train, X_test, ytrain_2sec, ytest_2sec)\n",
    "pickle.dump(model_rf_2_27, open('../streamlit_app/saved_models/model_rf_2_27.pkl', 'wb'))\n"
   ]
  },
  {
   "cell_type": "code",
   "execution_count": null,
   "metadata": {},
   "outputs": [],
   "source": []
  },
  {
   "cell_type": "markdown",
   "metadata": {
    "ExecuteTime": {
     "end_time": "2021-11-30T00:39:40.968595Z",
     "start_time": "2021-11-30T00:39:40.966564Z"
    }
   },
   "source": [
    "# RandomForest Classifier on Window=5"
   ]
  },
  {
   "cell_type": "code",
   "execution_count": 498,
   "metadata": {
    "ExecuteTime": {
     "end_time": "2021-12-06T23:35:27.335319Z",
     "start_time": "2021-12-06T23:35:27.137540Z"
    }
   },
   "outputs": [
    {
     "name": "stdout",
     "output_type": "stream",
     "text": [
      "Predicted\n",
      " [1 1 1 1 1 1 1 0 0 0 0 0 0 0 0 0 0 0 0 0 0 0 0 1 1 1 1 1 1 1 1 1 1 1 1 1 1\n",
      " 0 0 0 0 0 0 0 0 1 1 0]\n",
      "Actual\n",
      " [1 1 1 1 1 1 1 0 0 0 0 0 0 0 0 0 0 0 0 0 0 0 0 1 1 1 1 1 1 1 1 1 1 1 1 1 1\n",
      " 0 0 0 1 1 1 1 1 1 1 1]\n",
      "   prec    Recall  F1 Score  Feature Count\n",
      "0   1.0  0.793103  0.884615             94\n"
     ]
    }
   ],
   "source": [
    "ytrain_5sec = np.array(ytrain_5sec).ravel()\n",
    "ytest_5sec = np.array(ytest_5sec).ravel()\n",
    "\n",
    "model_rf_5_all = RandomForestClassifier(criterion='entropy', random_state=47)\n",
    "train_eval(model_rf_5_all, Xtrain_5sec, Xtest_5sec, ytrain_5sec, ytest_5sec)\n",
    "pickle.dump(model_rf_5_all, open('../streamlit_app/saved_models/model_rf_5_all.pkl', 'wb'))\n"
   ]
  },
  {
   "cell_type": "code",
   "execution_count": 499,
   "metadata": {
    "ExecuteTime": {
     "end_time": "2021-12-06T23:35:27.529130Z",
     "start_time": "2021-12-06T23:35:27.337370Z"
    }
   },
   "outputs": [
    {
     "name": "stdout",
     "output_type": "stream",
     "text": [
      "Predicted\n",
      " [1 1 1 1 1 1 1 0 0 0 0 0 0 0 0 0 0 0 0 0 0 0 0 1 1 1 1 1 1 1 1 1 1 0 1 1 1\n",
      " 0 0 0 0 0 0 0 0 1 1 0]\n",
      "Actual\n",
      " [1 1 1 1 1 1 1 0 0 0 0 0 0 0 0 0 0 0 0 0 0 0 0 1 1 1 1 1 1 1 1 1 1 1 1 1 1\n",
      " 0 0 0 1 1 1 1 1 1 1 1]\n",
      "   prec    Recall  F1 Score  Feature Count\n",
      "0   1.0  0.758621  0.862745             27\n"
     ]
    }
   ],
   "source": [
    "X_train = Xtrain_5sec[sub_features]\n",
    "X_test = Xtest_5sec[sub_features]\n",
    "model_rf_5_27 = RandomForestClassifier(criterion='entropy', random_state=47)\n",
    "\n",
    "train_eval(model_rf_5_27, X_train, X_test, ytrain_5sec, ytest_5sec)\n",
    "pickle.dump(model_rf_5_27, open('../streamlit_app/saved_models/model_rf_5_27.pkl', 'wb'))\n"
   ]
  },
  {
   "cell_type": "markdown",
   "metadata": {},
   "source": [
    "# SVM classifier on Window=5"
   ]
  },
  {
   "cell_type": "code",
   "execution_count": 500,
   "metadata": {
    "ExecuteTime": {
     "end_time": "2021-12-06T23:35:27.564530Z",
     "start_time": "2021-12-06T23:35:27.531146Z"
    }
   },
   "outputs": [
    {
     "name": "stdout",
     "output_type": "stream",
     "text": [
      "Predicted\n",
      " [1 1 1 1 1 1 1 0 0 0 0 0 0 0 0 0 0 0 0 0 0 0 0 0 0 1 1 1 1 1 1 1 1 1 1 1 0\n",
      " 0 0 0 0 0 0 0 0 0 0 0]\n",
      "Actual\n",
      " [1 1 1 1 1 1 1 0 0 0 0 0 0 0 0 0 0 0 0 0 0 0 0 1 1 1 1 1 1 1 1 1 1 1 1 1 1\n",
      " 0 0 0 1 1 1 1 1 1 1 1]\n",
      "   prec   Recall  F1 Score  Feature Count\n",
      "0   1.0  0.62069  0.765957             94\n"
     ]
    }
   ],
   "source": [
    "model_svm_5_all = SVC(kernel='linear', probability=True)\n",
    "train_eval(model_svm_5_all, Xtrain_5sec, Xtest_5sec, ytrain_5sec, ytest_5sec)\n",
    "pickle.dump(model_svm_5_all, open('../streamlit_app/saved_models/model_svm_5_all.pkl', 'wb'))\n"
   ]
  },
  {
   "cell_type": "code",
   "execution_count": 501,
   "metadata": {
    "ExecuteTime": {
     "end_time": "2021-12-06T23:35:27.594745Z",
     "start_time": "2021-12-06T23:35:27.566733Z"
    }
   },
   "outputs": [
    {
     "name": "stdout",
     "output_type": "stream",
     "text": [
      "Predicted\n",
      " [1 1 1 1 1 1 1 0 0 0 0 0 0 0 0 0 0 0 0 0 0 0 0 0 0 1 1 1 1 1 1 1 1 1 1 0 0\n",
      " 0 0 0 1 0 1 0 1 1 1 1]\n",
      "Actual\n",
      " [1 1 1 1 1 1 1 0 0 0 0 0 0 0 0 0 0 0 0 0 0 0 0 1 1 1 1 1 1 1 1 1 1 1 1 1 1\n",
      " 0 0 0 1 1 1 1 1 1 1 1]\n",
      "   prec    Recall  F1 Score  Feature Count\n",
      "0   1.0  0.793103  0.884615             27\n"
     ]
    }
   ],
   "source": [
    "model_svm_5_27 = SVC(kernel='linear', probability=True)\n",
    "X_train = Xtrain_5sec[sub_features]\n",
    "X_test = Xtest_5sec[sub_features]\n",
    "train_eval(model_svm_5_27, X_train, X_test, ytrain_5sec, ytest_5sec)\n",
    "pickle.dump(model_svm_5_27, open('../streamlit_app/saved_models/model_svm_5_27.pkl', 'wb'))\n"
   ]
  },
  {
   "cell_type": "code",
   "execution_count": null,
   "metadata": {},
   "outputs": [],
   "source": []
  },
  {
   "cell_type": "code",
   "execution_count": 463,
   "metadata": {
    "ExecuteTime": {
     "end_time": "2021-12-06T23:26:40.105027Z",
     "start_time": "2021-12-06T23:26:40.080113Z"
    }
   },
   "outputs": [
    {
     "name": "stdout",
     "output_type": "stream",
     "text": [
      "Predicted\n",
      " [1 1 1 1 1 1 1 0 0 0 0 0 0 0 0 0 0 0 0 0 0 0 0 0 0 1 1 1 1 1 1 1 1 1 1 0 0\n",
      " 0 0 0 1 0 1 0 1 1 1 1]\n",
      "Actual\n",
      " [1 1 1 1 1 1 1 0 0 0 0 0 0 0 0 0 0 0 0 0 0 0 0 1 1 1 1 1 1 1 1 1 1 1 1 1 1\n",
      " 0 0 0 1 1 1 1 1 1 1 1]\n"
     ]
    },
    {
     "data": {
      "text/html": [
       "<div>\n",
       "<style scoped>\n",
       "    .dataframe tbody tr th:only-of-type {\n",
       "        vertical-align: middle;\n",
       "    }\n",
       "\n",
       "    .dataframe tbody tr th {\n",
       "        vertical-align: top;\n",
       "    }\n",
       "\n",
       "    .dataframe thead th {\n",
       "        text-align: right;\n",
       "    }\n",
       "</style>\n",
       "<table border=\"1\" class=\"dataframe\">\n",
       "  <thead>\n",
       "    <tr style=\"text-align: right;\">\n",
       "      <th></th>\n",
       "      <th>prec</th>\n",
       "      <th>Recall</th>\n",
       "      <th>F1 Score</th>\n",
       "      <th>Feature Count</th>\n",
       "    </tr>\n",
       "  </thead>\n",
       "  <tbody>\n",
       "    <tr>\n",
       "      <th>0</th>\n",
       "      <td>1.0</td>\n",
       "      <td>0.793103</td>\n",
       "      <td>0.884615</td>\n",
       "      <td>27</td>\n",
       "    </tr>\n",
       "  </tbody>\n",
       "</table>\n",
       "</div>"
      ],
      "text/plain": [
       "   prec    Recall  F1 Score  Feature Count\n",
       "0   1.0  0.793103  0.884615             27"
      ]
     },
     "execution_count": 463,
     "metadata": {},
     "output_type": "execute_result"
    }
   ],
   "source": [
    "loaded_model = pickle.load(open('../streamlit_app/saved_models/model_svm_5_27.pkl', 'rb'))\n",
    "train_eval(loaded_model, X_train, X_test, ytrain_5sec, ytest_5sec)\n"
   ]
  },
  {
   "cell_type": "code",
   "execution_count": null,
   "metadata": {},
   "outputs": [],
   "source": []
  }
 ],
 "metadata": {
  "kernelspec": {
   "display_name": "Python 3",
   "language": "python",
   "name": "python3"
  },
  "language_info": {
   "codemirror_mode": {
    "name": "ipython",
    "version": 3
   },
   "file_extension": ".py",
   "mimetype": "text/x-python",
   "name": "python",
   "nbconvert_exporter": "python",
   "pygments_lexer": "ipython3",
   "version": "3.7.6"
  }
 },
 "nbformat": 4,
 "nbformat_minor": 4
}
